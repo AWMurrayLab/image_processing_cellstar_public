{
 "cells": [
  {
   "cell_type": "code",
   "execution_count": 1,
   "metadata": {},
   "outputs": [],
   "source": [
    "import numpy as np"
   ]
  },
  {
   "cell_type": "code",
   "execution_count": 2,
   "metadata": {},
   "outputs": [
    {
     "name": "stdout",
     "output_type": "stream",
     "text": [
      "And the winner is:  Suspiria (2018)\n"
     ]
    }
   ],
   "source": [
    "#Linda - The Perfection\n",
    "#Mat C. - Black Swan\n",
    "#Leo - The Blair Witch Project\n",
    "#Brenda - El Orfanato\n",
    "#Collin - Suspiria (2018)\n",
    "#Felix - Rosemary’s baby\n",
    "#6/6/19\n",
    "temp=['The Perfection', 'Black Swan', 'BWP', 'El Orfanato', 'Suspiria (2018)', \"Rosemary's baby\"]\n",
    "attendees = np.array([1, 1, 0, 0, 1, 1])\n",
    "print 'And the winner is: ', temp[np.nonzero(attendees)[0][np.random.randint(np.sum(attendees), size=1)[0]]]"
   ]
  },
  {
   "cell_type": "code",
   "execution_count": null,
   "metadata": {},
   "outputs": [],
   "source": []
  }
 ],
 "metadata": {
  "kernelspec": {
   "display_name": "Python 2",
   "language": "python",
   "name": "python2"
  },
  "language_info": {
   "codemirror_mode": {
    "name": "ipython",
    "version": 2
   },
   "file_extension": ".py",
   "mimetype": "text/x-python",
   "name": "python",
   "nbconvert_exporter": "python",
   "pygments_lexer": "ipython2",
   "version": "2.7.15"
  }
 },
 "nbformat": 4,
 "nbformat_minor": 2
}
