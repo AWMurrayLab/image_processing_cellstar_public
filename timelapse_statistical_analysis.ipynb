{
 "cells": [
  {
   "cell_type": "code",
   "execution_count": 1,
   "metadata": {},
   "outputs": [],
   "source": [
    "import pandas as pd\n",
    "import cPickle as pickle\n",
    "import numpy as np\n",
    "import matplotlib.pyplot as plt\n",
    "import seaborn as sns\n",
    "from pandas.plotting import scatter_matrix\n",
    "import scipy\n",
    "from scikits import bootstrap as boot\n",
    "sns.set(font_scale=1.0)\n",
    "from pandas.plotting import table\n",
    "import custom_image_toolkit as c\n",
    "from scipy.stats import ttest_ind"
   ]
  },
  {
   "cell_type": "code",
   "execution_count": 2,
   "metadata": {},
   "outputs": [],
   "source": [
    "%load_ext autoreload"
   ]
  },
  {
   "cell_type": "code",
   "execution_count": 3,
   "metadata": {},
   "outputs": [],
   "source": [
    "%autoreload 2"
   ]
  },
  {
   "cell_type": "code",
   "execution_count": 4,
   "metadata": {},
   "outputs": [],
   "source": [
    "# pACT1-mKate2 experiment on 180910\n",
    "# expt_id = '/180910_yFB71'\n",
    "\n",
    "cell_type_index={'M':'Mothers','D':'Daughters'}\n",
    "# # yFB79 Raffinose experiment on 181207\n",
    "expt_id1 = '/181207_yFB79_60X_Raff_125uMGal'\n",
    "df1 = pd.read_pickle(\"./expt_ids\"+expt_id1+\".pkl\")\n",
    "df1['expt'] = expt_id1\n",
    "df1['label'] = 'pWHI5-WHI5 12/07'\n",
    "df1['genotype'] = 'pWHI5-WHI5'\n",
    "# yFB79 Raffinose experiment on 190417\n",
    "expt_id2 = '/190417_yFB79_60X_Raff_125uMGal'\n",
    "df2= pd.read_pickle(\"./expt_ids\"+expt_id2+\".pkl\")\n",
    "df2['expt'] = '/190417_yFB79_60X_Raff_125uMGal'\n",
    "df2['label'] = 'pWHI5-WHI5 4/17'\n",
    "df2['genotype'] = 'pWHI5-WHI5'\n",
    "# yFB78 raffinose on 190606\n",
    "expt_id0 = '/190606_yFB78_60X_Raff_125uMGal'\n",
    "df0 = pd.read_pickle(\"./expt_ids\"+expt_id0+\".pkl\")\n",
    "df0['expt'] = expt_id0\n",
    "df0['label'] = 'pGAL1-WHI5 06/06'\n",
    "df0['genotype'] = 'pGAL1-WHI5'\n",
    "# yFB78 expt 190607, 12 min timestep\n",
    "expt_id3 = '/190607_yFB78_60X_Raff_125uMGal'\n",
    "df3= pd.read_pickle(\"./expt_ids\"+expt_id3+\".pkl\")\n",
    "df3['expt'] = '/190607_yFB78_60X_Raff_125uMGal'\n",
    "df3['label'] = 'pGAL1-WHI5 6/07'\n",
    "df3['genotype'] = 'pGAL1-WHI5'\n",
    "# yFB78 expt 190725\n",
    "expt_id4 = '/190725_yFB78_60X_2Raff_125uMGal'\n",
    "df4= pd.read_pickle(\"./expt_ids\"+expt_id4+\".pkl\")\n",
    "df4['expt'] = expt_id4\n",
    "df4['label'] = 'pGAL1-WHI5 7/25'\n",
    "df4['genotype'] = 'pGAL1-WHI5'\n",
    "# yFB79 Raffinose experiment on 190612\n",
    "expt_id6 = '/190612_yFB79_timelapse'\n",
    "df6= pd.read_pickle(\"./expt_ids\"+expt_id6+\".pkl\")\n",
    "df6['expt'] = expt_id6\n",
    "df6['label'] = 'pWHI5-WHI5 6/12'\n",
    "df6['genotype'] = 'pWHI5-WHI5'\n",
    "\n",
    "df0=c.processing(df0)\n",
    "df1=c.processing(df1)\n",
    "df=df0.append(df1);\n",
    "df2=c.processing(df2)\n",
    "df=df.append(df2);\n",
    "df3=c.processing(df3)\n",
    "df=df.append(df3);\n",
    "df4=c.processing(df4)\n",
    "df=df.append(df4);\n",
    "df6=c.processing(df6)\n",
    "df=df.append(df6);\n",
    "df = c.normalize(df);\n",
    "df['Cell Type'] = [cell_type_index[df.iloc[i0].type] for i0 in range(len(df))]\n",
    "df['Condition'] = [cell_type_index[df.iloc[i0].type]+', '+df.iloc[i0].genotype for i0 in range(len(df))]"
   ]
  },
  {
   "cell_type": "code",
   "execution_count": 13,
   "metadata": {},
   "outputs": [
    {
     "name": "stdout",
     "output_type": "stream",
     "text": [
      "P values for average of $c1_{b,seg}$\n",
      "Daughters, pGAL1-WHI5 Daughters, pWHI5-WHI5\n",
      "No difference\n",
      "Daughters, pGAL1-WHI5 Mothers, pGAL1-WHI5\n",
      "No difference\n",
      "Daughters, pGAL1-WHI5 Mothers, pWHI5-WHI5\n",
      "No difference\n",
      "Daughters, pWHI5-WHI5 Mothers, pGAL1-WHI5\n",
      "No difference\n",
      "Daughters, pWHI5-WHI5 Mothers, pWHI5-WHI5\n",
      "Statistically significant difference\n",
      "[7.757e+00 2.000e-03]\n",
      "Mothers, pGAL1-WHI5 Mothers, pWHI5-WHI5\n",
      "No difference\n"
     ]
    }
   ],
   "source": [
    "var = \"$c1_{b,seg}$\"\n",
    "temp_df= df.groupby(['Condition', 'expt'])[var].mean()\n",
    "labels = temp_df.index.unique().levels[0]\n",
    "# print temp_df.head(20)\n",
    "print 'P values for average of '+var\n",
    "# temp_df.loc['Daughters, pWHI5-WHI5']\n",
    "for i in range(len(labels)):\n",
    "    for j in range(len(labels)):\n",
    "        if i<j:\n",
    "            print labels[i], labels[j]\n",
    "            vals= scipy.stats.ttest_ind(temp_df.loc[labels[i]],temp_df.loc[labels[j]],equal_var=False)\n",
    "            \n",
    "            if vals[1]<0.05:\n",
    "                print 'Statistically significant difference'\n",
    "                print np.around(vals,3)\n",
    "            else:\n",
    "                print 'No difference'"
   ]
  },
  {
   "cell_type": "code",
   "execution_count": 14,
   "metadata": {
    "scrolled": true
   },
   "outputs": [
    {
     "name": "stdout",
     "output_type": "stream",
     "text": [
      "P values for average of $c2_{b,seg}$\n",
      "Daughters, pGAL1-WHI5 Daughters, pWHI5-WHI5\n",
      "No difference\n",
      "Daughters, pGAL1-WHI5 Mothers, pGAL1-WHI5\n",
      "No difference\n",
      "Daughters, pGAL1-WHI5 Mothers, pWHI5-WHI5\n",
      "No difference\n",
      "Daughters, pWHI5-WHI5 Mothers, pGAL1-WHI5\n",
      "Statistically significant difference\n",
      "[6.043e+00 4.000e-03]\n",
      "Daughters, pWHI5-WHI5 Mothers, pWHI5-WHI5\n",
      "Statistically significant difference\n",
      "[4.359 0.016]\n",
      "Mothers, pGAL1-WHI5 Mothers, pWHI5-WHI5\n",
      "No difference\n"
     ]
    }
   ],
   "source": [
    "var = \"$c2_{b,seg}$\"\n",
    "temp_df= df.groupby(['Condition', 'expt'])[var].mean()\n",
    "labels = temp_df.index.unique().levels[0]\n",
    "# print temp_df.head(20)\n",
    "print 'P values for average of '+var\n",
    "# temp_df.loc['Daughters, pWHI5-WHI5']\n",
    "for i in range(len(labels)):\n",
    "    for j in range(len(labels)):\n",
    "        if i<j:\n",
    "            print labels[i], labels[j]\n",
    "            vals= scipy.stats.ttest_ind(temp_df.loc[labels[i]],temp_df.loc[labels[j]],equal_var=False)\n",
    "            \n",
    "            if vals[1]<0.05:\n",
    "                print 'Statistically significant difference'\n",
    "                print np.around(vals,3)\n",
    "            else:\n",
    "                print 'No difference'"
   ]
  },
  {
   "cell_type": "code",
   "execution_count": 110,
   "metadata": {},
   "outputs": [
    {
     "name": "stdout",
     "output_type": "stream",
     "text": [
      "P values for average of $t_{G1}$\n",
      "Daughters, pGAL1-WHI5 Daughters, pWHI5-WHI5\n",
      "No difference\n",
      "Daughters, pGAL1-WHI5 Mothers, pGAL1-WHI5\n",
      "Statistically significant difference\n",
      "[3.741 0.062]\n",
      "Daughters, pGAL1-WHI5 Mothers, pWHI5-WHI5\n",
      "Statistically significant difference\n",
      "[3.543 0.068]\n",
      "Daughters, pWHI5-WHI5 Mothers, pGAL1-WHI5\n",
      "Statistically significant difference\n",
      "[9.824e+00 7.000e-03]\n",
      "Daughters, pWHI5-WHI5 Mothers, pWHI5-WHI5\n",
      "Statistically significant difference\n",
      "[9.344e+00 7.000e-03]\n",
      "Mothers, pGAL1-WHI5 Mothers, pWHI5-WHI5\n",
      "No difference\n"
     ]
    }
   ],
   "source": [
    "var = \"$t_{G1}$\"\n",
    "temp_df= df.groupby(['Condition', 'expt'])[var].mean()\n",
    "labels = temp_df.index.unique().levels[0]\n",
    "# print temp_df.head(20)\n",
    "print 'P values for average of '+var\n",
    "# temp_df.loc['Daughters, pWHI5-WHI5']\n",
    "for i in range(len(labels)):\n",
    "    for j in range(len(labels)):\n",
    "        if i<j:\n",
    "            print labels[i], labels[j]\n",
    "            vals= scipy.stats.ttest_ind(temp_df.loc[labels[i]],temp_df.loc[labels[j]],equal_var=False)\n",
    "            \n",
    "            if vals[1]<0.1:\n",
    "                print 'Statistically significant difference'\n",
    "                print np.around(vals,3)\n",
    "            else:\n",
    "                print 'No difference'"
   ]
  },
  {
   "cell_type": "code",
   "execution_count": 12,
   "metadata": {},
   "outputs": [
    {
     "name": "stdout",
     "output_type": "stream",
     "text": [
      "P values for average of $t_{div}$\n",
      "Comparing:  Daughters, pGAL1-WHI5 Daughters, pWHI5-WHI5\n",
      "No difference\n",
      "Comparing:  Daughters, pGAL1-WHI5 Mothers, pGAL1-WHI5\n",
      "Statistically significant difference\n",
      "[4.039 0.029]\n",
      "Comparing:  Daughters, pGAL1-WHI5 Mothers, pWHI5-WHI5\n",
      "Statistically significant difference\n",
      "[5.027 0.027]\n",
      "Comparing:  Daughters, pWHI5-WHI5 Mothers, pGAL1-WHI5\n",
      "Statistically significant difference\n",
      "[6.119e+00 5.000e-03]\n",
      "Comparing:  Daughters, pWHI5-WHI5 Mothers, pWHI5-WHI5\n",
      "Statistically significant difference\n",
      "[7.924e+00 6.000e-03]\n",
      "Comparing:  Mothers, pGAL1-WHI5 Mothers, pWHI5-WHI5\n",
      "No difference\n"
     ]
    }
   ],
   "source": [
    "var = \"$t_{div}$\"\n",
    "temp_df= df.groupby(['Condition', 'expt'])[var].mean()\n",
    "labels = temp_df.index.unique().levels[0]\n",
    "# print temp_df.head(20)\n",
    "print 'P values for average of '+var\n",
    "# temp_df.loc['Daughters, pWHI5-WHI5']\n",
    "for i in range(len(labels)):\n",
    "    for j in range(len(labels)):\n",
    "        if i<j:\n",
    "            print 'Comparing: ',labels[i], labels[j]\n",
    "            vals= scipy.stats.ttest_ind(temp_df.loc[labels[i]],temp_df.loc[labels[j]],equal_var=False)\n",
    "            if vals[1]<0.1:\n",
    "                print 'Statistically significant difference'\n",
    "                print np.around(vals,3)\n",
    "            else:\n",
    "                print 'No difference'"
   ]
  },
  {
   "cell_type": "code",
   "execution_count": 13,
   "metadata": {},
   "outputs": [
    {
     "name": "stdout",
     "output_type": "stream",
     "text": [
      "P values for average of $t_{budded}$\n",
      "Daughters, pGAL1-WHI5 Daughters, pWHI5-WHI5\n",
      "No difference\n",
      "Daughters, pGAL1-WHI5 Mothers, pGAL1-WHI5\n",
      "No difference\n",
      "Daughters, pGAL1-WHI5 Mothers, pWHI5-WHI5\n",
      "No difference\n",
      "Daughters, pWHI5-WHI5 Mothers, pGAL1-WHI5\n",
      "No difference\n",
      "Daughters, pWHI5-WHI5 Mothers, pWHI5-WHI5\n",
      "No difference\n",
      "Mothers, pGAL1-WHI5 Mothers, pWHI5-WHI5\n",
      "No difference\n"
     ]
    }
   ],
   "source": [
    "var = \"$t_{budded}$\"\n",
    "temp_df= df.groupby(['Condition', 'expt'])[var].mean()\n",
    "labels = temp_df.index.unique().levels[0]\n",
    "# print temp_df.head(20)\n",
    "# temp_df.loc['Daughters, pWHI5-WHI5']\n",
    "print 'P values for average of '+var\n",
    "for i in range(len(labels)):\n",
    "    for j in range(len(labels)):\n",
    "        if i<j:\n",
    "            print labels[i], labels[j]\n",
    "            vals= scipy.stats.ttest_ind(temp_df.loc[labels[i]],temp_df.loc[labels[j]],equal_var=False)\n",
    "            if vals[1]<0.1:\n",
    "                print 'Statistically significant difference'\n",
    "                print np.around(vals,3)\n",
    "            else:\n",
    "                print 'No difference'"
   ]
  },
  {
   "cell_type": "code",
   "execution_count": 7,
   "metadata": {},
   "outputs": [
    {
     "name": "stdout",
     "output_type": "stream",
     "text": [
      "P values for CV of $V_{b,ell}$\n",
      "Daughters, pGAL1-WHI5 Daughters, pWHI5-WHI5\n",
      "Statistically significant difference\n",
      "[4.774 0.032]\n",
      "Daughters, pGAL1-WHI5 Mothers, pGAL1-WHI5\n",
      "Statistically significant difference\n",
      "[-2.978  0.041]\n",
      "Daughters, pGAL1-WHI5 Mothers, pWHI5-WHI5\n",
      "No difference\n",
      "Daughters, pWHI5-WHI5 Mothers, pGAL1-WHI5\n",
      "Statistically significant difference\n",
      "[-8.339  0.01 ]\n",
      "Daughters, pWHI5-WHI5 Mothers, pWHI5-WHI5\n",
      "Statistically significant difference\n",
      "[-4.151  0.05 ]\n",
      "Mothers, pGAL1-WHI5 Mothers, pWHI5-WHI5\n",
      "No difference\n"
     ]
    }
   ],
   "source": [
    "var = \"$V_{b,ell}$\"\n",
    "temp_df= df.groupby(['Condition', 'expt'])[var].std()/df.groupby(['Condition', 'expt'])[var].mean()\n",
    "labels = temp_df.index.unique().levels[0]\n",
    "# print temp_df.head(20)\n",
    "# temp_df.loc['Daughters, pWHI5-WHI5']\n",
    "print 'P values for CV of '+var\n",
    "for i in range(len(labels)):\n",
    "    for j in range(len(labels)):\n",
    "        if i<j:\n",
    "            print labels[i], labels[j]\n",
    "            vals= scipy.stats.ttest_ind(temp_df.loc[labels[i]],temp_df.loc[labels[j]],equal_var=False)\n",
    "            if vals[1]<0.1:\n",
    "                print 'Statistically significant difference'\n",
    "                print np.around(vals,3)\n",
    "            else:\n",
    "                print 'No difference'"
   ]
  },
  {
   "cell_type": "code",
   "execution_count": 8,
   "metadata": {},
   "outputs": [
    {
     "name": "stdout",
     "output_type": "stream",
     "text": [
      "P values for av of $V_{b,ell}$\n",
      "Daughters, pGAL1-WHI5 Daughters, pWHI5-WHI5\n",
      "Statistically significant difference\n",
      "[4.104 0.028]\n",
      "Daughters, pGAL1-WHI5 Mothers, pGAL1-WHI5\n",
      "Statistically significant difference\n",
      "[-3.631  0.067]\n",
      "Daughters, pGAL1-WHI5 Mothers, pWHI5-WHI5\n",
      "Statistically significant difference\n",
      "[-5.661  0.028]\n",
      "Daughters, pWHI5-WHI5 Mothers, pGAL1-WHI5\n",
      "Statistically significant difference\n",
      "[-4.017  0.056]\n",
      "Daughters, pWHI5-WHI5 Mothers, pWHI5-WHI5\n",
      "Statistically significant difference\n",
      "[-6.159  0.025]\n",
      "Mothers, pGAL1-WHI5 Mothers, pWHI5-WHI5\n",
      "No difference\n"
     ]
    }
   ],
   "source": [
    "var = \"$V_{b,ell}$\"\n",
    "temp_df= df.groupby(['Condition', 'expt'])[var].mean()\n",
    "labels = temp_df.index.unique().levels[0]\n",
    "# print temp_df.head(20)\n",
    "# temp_df.loc['Daughters, pWHI5-WHI5']\n",
    "print 'P values for av of '+var\n",
    "for i in range(len(labels)):\n",
    "    for j in range(len(labels)):\n",
    "        if i<j:\n",
    "            print labels[i], labels[j]\n",
    "            vals= scipy.stats.ttest_ind(temp_df.loc[labels[i]],temp_df.loc[labels[j]],equal_var=False)\n",
    "            if vals[1]<0.1:\n",
    "                print 'Statistically significant difference'\n",
    "                print np.around(vals,3)\n",
    "            else:\n",
    "                print 'No difference'"
   ]
  },
  {
   "cell_type": "code",
   "execution_count": 9,
   "metadata": {},
   "outputs": [
    {
     "name": "stdout",
     "output_type": "stream",
     "text": [
      "P values for CV of $V_{s,ell}$\n",
      "Daughters, pGAL1-WHI5 Daughters, pWHI5-WHI5\n",
      "No difference\n",
      "Daughters, pGAL1-WHI5 Mothers, pGAL1-WHI5\n",
      "No difference\n",
      "Daughters, pGAL1-WHI5 Mothers, pWHI5-WHI5\n",
      "No difference\n",
      "Daughters, pWHI5-WHI5 Mothers, pGAL1-WHI5\n",
      "No difference\n",
      "Daughters, pWHI5-WHI5 Mothers, pWHI5-WHI5\n",
      "No difference\n",
      "Mothers, pGAL1-WHI5 Mothers, pWHI5-WHI5\n",
      "No difference\n"
     ]
    }
   ],
   "source": [
    "var = \"$V_{s,ell}$\"\n",
    "temp_df= df.groupby(['Condition', 'expt'])[var].std()/df.groupby(['Condition', 'expt'])[var].mean()\n",
    "labels = temp_df.index.unique().levels[0]\n",
    "# print temp_df.head(20)\n",
    "# temp_df.loc['Daughters, pWHI5-WHI5']\n",
    "print 'P values for CV of '+var\n",
    "for i in range(len(labels)):\n",
    "    for j in range(len(labels)):\n",
    "        if i<j:\n",
    "            print labels[i], labels[j]\n",
    "            vals= scipy.stats.ttest_ind(temp_df.loc[labels[i]],temp_df.loc[labels[j]],equal_var=False)\n",
    "            if vals[1]<0.1:\n",
    "                print 'Statistically significant difference'\n",
    "                print np.around(vals,3)\n",
    "            else:\n",
    "                print 'No difference'"
   ]
  },
  {
   "cell_type": "code",
   "execution_count": 10,
   "metadata": {},
   "outputs": [
    {
     "name": "stdout",
     "output_type": "stream",
     "text": [
      "P values for av of $V_{s,ell}$\n",
      "Daughters, pGAL1-WHI5 Daughters, pWHI5-WHI5\n",
      "No difference\n",
      "Daughters, pGAL1-WHI5 Mothers, pGAL1-WHI5\n",
      "No difference\n",
      "Daughters, pGAL1-WHI5 Mothers, pWHI5-WHI5\n",
      "Statistically significant difference\n",
      "[-2.318  0.085]\n",
      "Daughters, pWHI5-WHI5 Mothers, pGAL1-WHI5\n",
      "No difference\n",
      "Daughters, pWHI5-WHI5 Mothers, pWHI5-WHI5\n",
      "Statistically significant difference\n",
      "[-3.092  0.07 ]\n",
      "Mothers, pGAL1-WHI5 Mothers, pWHI5-WHI5\n",
      "No difference\n"
     ]
    }
   ],
   "source": [
    "var = \"$V_{s,ell}$\"\n",
    "temp_df= df.groupby(['Condition', 'expt'])[var].mean()\n",
    "labels = temp_df.index.unique().levels[0]\n",
    "# print temp_df.head(20)\n",
    "# temp_df.loc['Daughters, pWHI5-WHI5']\n",
    "print 'P values for av of '+var\n",
    "for i in range(len(labels)):\n",
    "    for j in range(len(labels)):\n",
    "        if i<j:\n",
    "            print labels[i], labels[j]\n",
    "            vals= scipy.stats.ttest_ind(temp_df.loc[labels[i]],temp_df.loc[labels[j]],equal_var=False)\n",
    "            if vals[1]<0.1:\n",
    "                print 'Statistically significant difference'\n",
    "                print np.around(vals,3)\n",
    "            else:\n",
    "                print 'No difference'"
   ]
  },
  {
   "cell_type": "code",
   "execution_count": 11,
   "metadata": {},
   "outputs": [
    {
     "name": "stdout",
     "output_type": "stream",
     "text": [
      "P values for CV of $V_{div,ell}$\n",
      "Daughters, pGAL1-WHI5 Daughters, pWHI5-WHI5\n",
      "No difference\n",
      "Daughters, pGAL1-WHI5 Mothers, pGAL1-WHI5\n",
      "No difference\n",
      "Daughters, pGAL1-WHI5 Mothers, pWHI5-WHI5\n",
      "No difference\n",
      "Daughters, pWHI5-WHI5 Mothers, pGAL1-WHI5\n",
      "No difference\n",
      "Daughters, pWHI5-WHI5 Mothers, pWHI5-WHI5\n",
      "No difference\n",
      "Mothers, pGAL1-WHI5 Mothers, pWHI5-WHI5\n",
      "No difference\n"
     ]
    }
   ],
   "source": [
    "var = \"$V_{div,ell}$\"\n",
    "temp_df= df.groupby(['Condition', 'expt'])[var].std()/df.groupby(['Condition', 'expt'])[var].mean()\n",
    "labels = temp_df.index.unique().levels[0]\n",
    "# print temp_df.head(20)\n",
    "# temp_df.loc['Daughters, pWHI5-WHI5']\n",
    "print 'P values for CV of '+var\n",
    "for i in range(len(labels)):\n",
    "    for j in range(len(labels)):\n",
    "        if i<j:\n",
    "            print labels[i], labels[j]\n",
    "            vals= scipy.stats.ttest_ind(temp_df.loc[labels[i]],temp_df.loc[labels[j]],equal_var=False)\n",
    "            if vals[1]<0.1:\n",
    "                print 'Statistically significant difference'\n",
    "                print np.around(vals,3)\n",
    "            else:\n",
    "                print 'No difference'"
   ]
  },
  {
   "cell_type": "code",
   "execution_count": 12,
   "metadata": {},
   "outputs": [
    {
     "name": "stdout",
     "output_type": "stream",
     "text": [
      "P values for av of $V_{div,ell}$\n",
      "Daughters, pGAL1-WHI5 Daughters, pWHI5-WHI5\n",
      "No difference\n",
      "Daughters, pGAL1-WHI5 Mothers, pGAL1-WHI5\n",
      "No difference\n",
      "Daughters, pGAL1-WHI5 Mothers, pWHI5-WHI5\n",
      "No difference\n",
      "Daughters, pWHI5-WHI5 Mothers, pGAL1-WHI5\n",
      "No difference\n",
      "Daughters, pWHI5-WHI5 Mothers, pWHI5-WHI5\n",
      "No difference\n",
      "Mothers, pGAL1-WHI5 Mothers, pWHI5-WHI5\n",
      "No difference\n"
     ]
    }
   ],
   "source": [
    "var = \"$V_{div,ell}$\"\n",
    "temp_df= df.groupby(['Condition', 'expt'])[var].mean()\n",
    "labels = temp_df.index.unique().levels[0]\n",
    "# print temp_df.head(20)\n",
    "# temp_df.loc['Daughters, pWHI5-WHI5']\n",
    "print 'P values for av of '+var\n",
    "for i in range(len(labels)):\n",
    "    for j in range(len(labels)):\n",
    "        if i<j:\n",
    "            print labels[i], labels[j]\n",
    "            vals= scipy.stats.ttest_ind(temp_df.loc[labels[i]],temp_df.loc[labels[j]],equal_var=False)\n",
    "            if vals[1]<0.1:\n",
    "                print 'Statistically significant difference'\n",
    "                print np.around(vals,3)\n",
    "            else:\n",
    "                print 'No difference'"
   ]
  },
  {
   "cell_type": "code",
   "execution_count": 5,
   "metadata": {},
   "outputs": [
    {
     "data": {
      "text/plain": [
       "array(['/190606_yFB78_60X_Raff_125uMGal',\n",
       "       '/181207_yFB79_60X_Raff_125uMGal',\n",
       "       '/190417_yFB79_60X_Raff_125uMGal',\n",
       "       '/190607_yFB78_60X_Raff_125uMGal',\n",
       "       '/190725_yFB78_60X_2Raff_125uMGal', '/190612_yFB79_timelapse'],\n",
       "      dtype=object)"
      ]
     },
     "execution_count": 5,
     "metadata": {},
     "output_type": "execute_result"
    }
   ],
   "source": [
    "df['expt'].unique()"
   ]
  },
  {
   "cell_type": "code",
   "execution_count": 6,
   "metadata": {},
   "outputs": [],
   "source": [
    "def fn(x,slope1,slope2,av1,av2,av3,av4,av5,av6,av7):\n",
    "    # av1 is the basic x intercept\n",
    "    # av2 is the diff in the x intercept for genotype 1\n",
    "    # av3-av8 are the diffs in the x intercepts for the different rns\n",
    "    # slope1 is the slope for the simple linear regression\n",
    "    # slope2 is the slope for the genotype*x linear regression\n",
    "#     temp_cols=x.columns # should be in order yvar, xvar, genotype, runs1-6 in numbers 3-8\n",
    "    return slope1*x[0]+slope2*x[0]*x[1]+av1+av2*x[1]+av3*x[2]+av4*x[3]+av5*x[4]+av6*x[5]+av7*x[6]\n",
    "\n",
    "# def fn(x,slope1,slope2,av1,av2,av3,av4,av5):\n",
    "#     # av1 is the basic x intercept\n",
    "#     # av2 is the diff in the x intercept for genotype 1\n",
    "#     # av3-av8 are the diffs in the x intercepts for the different rns\n",
    "#     # slope1 is the slope for the simple linear regression\n",
    "#     # slope2 is the slope for the genotype*x linear regression\n",
    "# #     temp_cols=x.columns # should be in order yvar, xvar, genotype, runs1-6 in numbers 3-8\n",
    "#     # negative values here are to ensure that the intercepts add up to zero over multiple runs, so that \n",
    "#     # we get a robust sense of the overall average\n",
    "#     return slope1*x[0]+slope2*x[0]*x[1]+av1+av2*x[1]+av3*x[2]-av3*x[3]+av4*x[4]+av5*x[5]-(av4+av5)*x[6]\n",
    "\n",
    "def stat_sig(temp_df,temp_vars):\n",
    "    df_dummies=pd.get_dummies(temp_df)\n",
    "    df_dummies.drop('genotype_pWHI5-WHI5',axis=1,inplace=True)\n",
    "#     print df_dummies.head()\n",
    "    vals,cov=scipy.optimize.curve_fit(fn,np.asarray(df_dummies)[:,1:].transpose(), np.asarray(df_dummies[temp_vars[0]]),method='trf')\n",
    "    print temp_vars[0], temp_vars[1], 'pWHI5, pGAL1'\n",
    "    print 'Slope 1: {0}, slope 2:{1}'.format(vals[0],vals[1])\n",
    "    temp_p_vals = 1-scipy.stats.norm.cdf(np.absolute(vals/np.sqrt(np.diag(cov))))[:2]\n",
    "    print 'P values', temp_p_vals\n",
    "    print temp_p_vals<0.025\n",
    "    df_dummies=pd.get_dummies(temp_df)\n",
    "    df_dummies.drop('genotype_pGAL1-WHI5',axis=1,inplace=True)\n",
    "    vals,cov=scipy.optimize.curve_fit(fn,np.asarray(df_dummies)[:,1:].transpose(), np.asarray(df_dummies[temp_vars[0]]),method='trf')\n",
    "    print temp_vars[0], temp_vars[1], 'pGAL1, pWHI5'\n",
    "    print 'Slope 1: {0}, slope 2:{1}'.format(vals[0],vals[1])\n",
    "    temp_p_vals = 1-scipy.stats.norm.cdf(np.absolute(vals/np.sqrt(np.diag(cov))))[:2]\n",
    "#     print vals, 1-scipy.stats.norm.cdf(np.absolute(vals/np.sqrt(np.diag(cov))))\n",
    "    print 'P values', temp_p_vals\n",
    "    print temp_p_vals<0.025"
   ]
  },
  {
   "cell_type": "code",
   "execution_count": 7,
   "metadata": {},
   "outputs": [],
   "source": [
    "temp_vars1=['$c1_{b,seg,norm}$', '$V_{b,ell}$']\n",
    "temp_df1=df[df['Cell Type']=='Daughters'][['genotype','expt']+temp_vars1]\n",
    "df_dummies=pd.get_dummies(temp_df1)"
   ]
  },
  {
   "cell_type": "code",
   "execution_count": 10,
   "metadata": {
    "scrolled": false
   },
   "outputs": [
    {
     "name": "stdout",
     "output_type": "stream",
     "text": [
      "$c1_{b,seg,norm}$ $V_{b,ell}$ pWHI5, pGAL1\n",
      "Slope 1: -0.0123223329596, slope 2:0.00973556136748\n",
      "P values [2.82318613e-12 1.23652296e-04]\n",
      "[ True  True]\n",
      "$c1_{b,seg,norm}$ $V_{b,ell}$ pGAL1, pWHI5\n",
      "Slope 1: -0.00258677146356, slope 2:-0.00973556152682\n",
      "P values [0.09363019 0.00012262]\n",
      "[False  True]\n",
      "$c2_{b,seg,norm}$ $V_{b,ell}$ pWHI5, pGAL1\n",
      "Slope 1: 0.00292298848067, slope 2:-0.00212790242928\n",
      "P values [1.75600886e-06 1.13903326e-02]\n",
      "[ True  True]\n",
      "$c2_{b,seg,norm}$ $V_{b,ell}$ pGAL1, pWHI5\n",
      "Slope 1: 0.000795086102639, slope 2:0.00212790239367\n",
      "P values [0.12459269 0.01137096]\n",
      "[False  True]\n",
      "$t_{G1}$ $V_{b,ell}$ pWHI5, pGAL1\n",
      "Slope 1: -2.8354313925, slope 2:-0.448819388449\n",
      "P values [0.        0.1321317]\n",
      "[ True False]\n",
      "$t_{G1}$ $V_{b,ell}$ pGAL1, pWHI5\n",
      "Slope 1: -3.28425067669, slope 2:0.448819162724\n",
      "P values [0.         0.13110439]\n",
      "[ True False]\n",
      "$t_{budded}$ $V_{s,ell}$ pWHI5, pGAL1\n",
      "Slope 1: -0.0805879591481, slope 2:-0.233127973355\n",
      "P values [0.02023265 0.00016444]\n",
      "[ True  True]\n",
      "$t_{budded}$ $V_{s,ell}$ pGAL1, pWHI5\n",
      "Slope 1: -0.313715908912, slope 2:0.233127948669\n",
      "P values [6.03976646e-10 1.63466272e-04]\n",
      "[ True  True]\n",
      "$t_{G1}$ $c1_{b,seg,norm}$ pWHI5, pGAL1\n",
      "Slope 1: 79.8887634996, slope 2:-43.7397734646\n",
      "P values [6.99440506e-15 7.61979753e-05]\n",
      "[ True  True]\n",
      "$t_{G1}$ $c1_{b,seg,norm}$ pGAL1, pWHI5\n",
      "Slope 1: 36.1489890782, slope 2:43.7397745501\n",
      "P values [4.60076421e-13 2.15596604e-05]\n",
      "[ True  True]\n",
      "$t_{G1}$ $c2_{b,seg,norm}$ pWHI5, pGAL1\n",
      "Slope 1: 15.7302292837, slope 2:22.484385684\n",
      "P values [0.15017181 0.24529393]\n",
      "[False False]\n",
      "$t_{G1}$ $c2_{b,seg,norm}$ pGAL1, pWHI5\n",
      "Slope 1: 38.2146253343, slope 2:-22.4844012787\n",
      "P values [0.09268216 0.24524911]\n",
      "[False False]\n",
      "$V_{b,ell}$ $V_{div,ell}$ pWHI5, pGAL1\n",
      "Slope 1: 0.0550607928303, slope 2:0.0419029478523\n",
      "P values [3.99370459e-09 7.15266444e-03]\n",
      "[ True  True]\n",
      "$V_{b,ell}$ $V_{div,ell}$ pGAL1, pWHI5\n",
      "Slope 1: 0.0969637407625, slope 2:-0.0419029479564\n",
      "P values [6.43596287e-13 5.96273672e-03]\n",
      "[ True  True]\n"
     ]
    }
   ],
   "source": [
    "# temp_vars = ['$t_{G1}$','$c1_{b,seg,norm}$']\n",
    "temp_vars2=[['$c1_{b,seg,norm}$', '$V_{b,ell}$'], ['$c2_{b,seg,norm}$', '$V_{b,ell}$'],\n",
    "          ['$t_{G1}$', '$V_{b,ell}$'], ['$t_{budded}$', '$V_{s,ell}$'],\n",
    "           ['$t_{G1}$','$c1_{b,seg,norm}$'],['$t_{G1}$','$c2_{b,seg,norm}$'],['$V_{b,ell}$','$V_{div,ell}$']]\n",
    "# temp_vars1 = ['$c1_{b,seg,norm}$', '$V_{b,ell}$']\n",
    "for temp_vars1 in temp_vars2:\n",
    "    temp_df1=df[df['Cell Type']=='Daughters'][['genotype','expt']+temp_vars1]\n",
    "    stat_sig(temp_df1,temp_vars1)"
   ]
  },
  {
   "cell_type": "code",
   "execution_count": null,
   "metadata": {},
   "outputs": [],
   "source": []
  }
 ],
 "metadata": {
  "kernelspec": {
   "display_name": "Python 2",
   "language": "python",
   "name": "python2"
  },
  "language_info": {
   "codemirror_mode": {
    "name": "ipython",
    "version": 2
   },
   "file_extension": ".py",
   "mimetype": "text/x-python",
   "name": "python",
   "nbconvert_exporter": "python",
   "pygments_lexer": "ipython2",
   "version": "2.7.15"
  }
 },
 "nbformat": 4,
 "nbformat_minor": 2
}
